{
 "cells": [
  {
   "cell_type": "code",
   "execution_count": 1,
   "metadata": {},
   "outputs": [],
   "source": [
    "#import the dependencies\n",
    "import pandas as pd\n",
    "import numpy as np\n",
    "from sklearn.model_selection import train_test_split\n",
    "from sklearn.linear_model import LinearRegression\n",
    "from sklearn import metrics\n",
    "import matplotlib.pyplot as plt\n",
    "from matplotlib import style\n",
    "# plt.style.use('bnh')"
   ]
  },
  {
   "cell_type": "code",
   "execution_count": 2,
   "metadata": {},
   "outputs": [],
   "source": [
    "style.use('ggplot')"
   ]
  },
  {
   "cell_type": "code",
   "execution_count": 4,
   "metadata": {},
   "outputs": [
    {
     "name": "stdout",
     "output_type": "stream",
     "text": [
      "          Date       Open       High        Low      Close  Adj Close  \\\n",
      "0   2010-06-29  19.000000  25.000000  17.540001  23.889999  23.889999   \n",
      "1   2010-06-30  25.790001  30.420000  23.299999  23.830000  23.830000   \n",
      "2   2010-07-01  25.000000  25.920000  20.270000  21.959999  21.959999   \n",
      "3   2010-07-02  23.000000  23.100000  18.709999  19.200001  19.200001   \n",
      "4   2010-07-06  20.000000  20.000000  15.830000  16.110001  16.110001   \n",
      "5   2010-07-07  16.400000  16.629999  14.980000  15.800000  15.800000   \n",
      "6   2010-07-08  16.139999  17.520000  15.570000  17.459999  17.459999   \n",
      "7   2010-07-09  17.580000  17.900000  16.549999  17.400000  17.400000   \n",
      "8   2010-07-12  17.950001  18.070000  17.000000  17.049999  17.049999   \n",
      "9   2010-07-13  17.389999  18.639999  16.900000  18.139999  18.139999   \n",
      "10  2010-07-14  17.940001  20.150000  17.760000  19.840000  19.840000   \n",
      "11  2010-07-15  19.940001  21.500000  19.000000  19.889999  19.889999   \n",
      "12  2010-07-16  20.700001  21.299999  20.049999  20.639999  20.639999   \n",
      "13  2010-07-19  21.370001  22.250000  20.920000  21.910000  21.910000   \n",
      "14  2010-07-20  21.850000  21.850000  20.049999  20.299999  20.299999   \n",
      "15  2010-07-21  20.660000  20.900000  19.500000  20.219999  20.219999   \n",
      "16  2010-07-22  20.500000  21.250000  20.370001  21.000000  21.000000   \n",
      "17  2010-07-23  21.190001  21.559999  21.059999  21.290001  21.290001   \n",
      "18  2010-07-26  21.500000  21.500000  20.299999  20.950001  20.950001   \n",
      "19  2010-07-27  20.910000  21.180000  20.260000  20.549999  20.549999   \n",
      "20  2010-07-28  20.549999  20.900000  20.510000  20.719999  20.719999   \n",
      "21  2010-07-29  20.770000  20.879999  20.000000  20.350000  20.350000   \n",
      "22  2010-07-30  20.200001  20.440001  19.549999  19.940001  19.940001   \n",
      "23  2010-08-02  20.500000  20.969999  20.330000  20.920000  20.920000   \n",
      "24  2010-08-03  21.000000  21.950001  20.820000  21.950001  21.950001   \n",
      "\n",
      "      Volume  \n",
      "0   18766300  \n",
      "1   17187100  \n",
      "2    8218800  \n",
      "3    5139800  \n",
      "4    6866900  \n",
      "5    6921700  \n",
      "6    7711400  \n",
      "7    4050600  \n",
      "8    2202500  \n",
      "9    2680100  \n",
      "10   4195200  \n",
      "11   3739800  \n",
      "12   2621300  \n",
      "13   2486500  \n",
      "14   1825300  \n",
      "15   1252500  \n",
      "16    957800  \n",
      "17    653600  \n",
      "18    922200  \n",
      "19    619700  \n",
      "20    467200  \n",
      "21    616000  \n",
      "22    426900  \n",
      "23    718100  \n",
      "24   1230500  \n"
     ]
    }
   ],
   "source": [
    "df=pd.read_csv('downloads/TSLA.csv')\n",
    "print(df.head(25))"
   ]
  },
  {
   "cell_type": "code",
   "execution_count": 5,
   "metadata": {},
   "outputs": [
    {
     "name": "stdout",
     "output_type": "stream",
     "text": [
      "[[2.50000000e+01 1.90000000e+01 1.75400010e+01 1.87663000e+07]\n",
      " [3.04200000e+01 2.57900010e+01 2.32999990e+01 1.71871000e+07]\n",
      " [2.59200000e+01 2.50000000e+01 2.02700000e+01 8.21880000e+06]\n",
      " ...\n",
      " [6.50880005e+02 6.32419983e+02 6.18000000e+02 2.90057000e+07]\n",
      " [6.53000000e+02 6.40000000e+02 6.32520020e+02 1.57193000e+07]\n",
      " [7.86140015e+02 6.73690002e+02 6.73520020e+02 4.70650000e+07]]\n",
      "[ 23.889999  23.83      21.959999 ... 640.809998 650.570007 780.      ]\n"
     ]
    }
   ],
   "source": [
    "x=df[['High','Open','Low','Volume']].values\n",
    "y=df['Close'].values\n",
    "print(x)\n",
    "print(y)"
   ]
  },
  {
   "cell_type": "code",
   "execution_count": 6,
   "metadata": {},
   "outputs": [],
   "source": [
    "from sklearn.model_selection import train_test_split\n",
    "x_train,x_test,y_train,y_test=train_test_split(x,y,test_size=0.2,random_state=0)"
   ]
  },
  {
   "cell_type": "code",
   "execution_count": 7,
   "metadata": {},
   "outputs": [
    {
     "data": {
      "text/plain": [
       "LinearRegression(copy_X=True, fit_intercept=True, n_jobs=1, normalize=False)"
      ]
     },
     "execution_count": 7,
     "metadata": {},
     "output_type": "execute_result"
    }
   ],
   "source": [
    "from sklearn.linear_model import LinearRegression\n",
    "regressor=LinearRegression()\n",
    "regressor.fit(x_train,y_train)"
   ]
  },
  {
   "cell_type": "code",
   "execution_count": 11,
   "metadata": {},
   "outputs": [
    {
     "data": {
      "text/html": [
       "<div>\n",
       "<style scoped>\n",
       "    .dataframe tbody tr th:only-of-type {\n",
       "        vertical-align: middle;\n",
       "    }\n",
       "\n",
       "    .dataframe tbody tr th {\n",
       "        vertical-align: top;\n",
       "    }\n",
       "\n",
       "    .dataframe thead th {\n",
       "        text-align: right;\n",
       "    }\n",
       "</style>\n",
       "<table border=\"1\" class=\"dataframe\">\n",
       "  <thead>\n",
       "    <tr style=\"text-align: right;\">\n",
       "      <th></th>\n",
       "      <th>Actual</th>\n",
       "      <th>Predicted</th>\n",
       "    </tr>\n",
       "  </thead>\n",
       "  <tbody>\n",
       "    <tr>\n",
       "      <th>0</th>\n",
       "      <td>207.729996</td>\n",
       "      <td>211.933274</td>\n",
       "    </tr>\n",
       "    <tr>\n",
       "      <th>1</th>\n",
       "      <td>28.280001</td>\n",
       "      <td>28.343446</td>\n",
       "    </tr>\n",
       "    <tr>\n",
       "      <th>2</th>\n",
       "      <td>24.010000</td>\n",
       "      <td>23.967470</td>\n",
       "    </tr>\n",
       "    <tr>\n",
       "      <th>3</th>\n",
       "      <td>315.230011</td>\n",
       "      <td>326.638890</td>\n",
       "    </tr>\n",
       "    <tr>\n",
       "      <th>4</th>\n",
       "      <td>200.240005</td>\n",
       "      <td>197.999511</td>\n",
       "    </tr>\n",
       "    <tr>\n",
       "      <th>5</th>\n",
       "      <td>210.240005</td>\n",
       "      <td>209.841431</td>\n",
       "    </tr>\n",
       "    <tr>\n",
       "      <th>6</th>\n",
       "      <td>26.440001</td>\n",
       "      <td>26.570540</td>\n",
       "    </tr>\n",
       "    <tr>\n",
       "      <th>7</th>\n",
       "      <td>22.790001</td>\n",
       "      <td>24.115965</td>\n",
       "    </tr>\n",
       "    <tr>\n",
       "      <th>8</th>\n",
       "      <td>224.839996</td>\n",
       "      <td>218.550465</td>\n",
       "    </tr>\n",
       "    <tr>\n",
       "      <th>9</th>\n",
       "      <td>353.179993</td>\n",
       "      <td>350.599448</td>\n",
       "    </tr>\n",
       "    <tr>\n",
       "      <th>10</th>\n",
       "      <td>219.039993</td>\n",
       "      <td>216.709997</td>\n",
       "    </tr>\n",
       "    <tr>\n",
       "      <th>11</th>\n",
       "      <td>278.480011</td>\n",
       "      <td>280.400500</td>\n",
       "    </tr>\n",
       "    <tr>\n",
       "      <th>12</th>\n",
       "      <td>31.799999</td>\n",
       "      <td>31.696980</td>\n",
       "    </tr>\n",
       "    <tr>\n",
       "      <th>13</th>\n",
       "      <td>102.199997</td>\n",
       "      <td>102.555421</td>\n",
       "    </tr>\n",
       "    <tr>\n",
       "      <th>14</th>\n",
       "      <td>20.430000</td>\n",
       "      <td>20.400226</td>\n",
       "    </tr>\n",
       "    <tr>\n",
       "      <th>15</th>\n",
       "      <td>346.049988</td>\n",
       "      <td>349.798911</td>\n",
       "    </tr>\n",
       "    <tr>\n",
       "      <th>16</th>\n",
       "      <td>104.629997</td>\n",
       "      <td>103.437858</td>\n",
       "    </tr>\n",
       "    <tr>\n",
       "      <th>17</th>\n",
       "      <td>260.170013</td>\n",
       "      <td>258.029938</td>\n",
       "    </tr>\n",
       "    <tr>\n",
       "      <th>18</th>\n",
       "      <td>28.059999</td>\n",
       "      <td>27.728118</td>\n",
       "    </tr>\n",
       "    <tr>\n",
       "      <th>19</th>\n",
       "      <td>225.000000</td>\n",
       "      <td>223.910762</td>\n",
       "    </tr>\n",
       "    <tr>\n",
       "      <th>20</th>\n",
       "      <td>359.700012</td>\n",
       "      <td>363.878761</td>\n",
       "    </tr>\n",
       "    <tr>\n",
       "      <th>21</th>\n",
       "      <td>327.779999</td>\n",
       "      <td>325.905607</td>\n",
       "    </tr>\n",
       "    <tr>\n",
       "      <th>22</th>\n",
       "      <td>220.690002</td>\n",
       "      <td>221.709428</td>\n",
       "    </tr>\n",
       "    <tr>\n",
       "      <th>23</th>\n",
       "      <td>337.950012</td>\n",
       "      <td>341.854508</td>\n",
       "    </tr>\n",
       "    <tr>\n",
       "      <th>24</th>\n",
       "      <td>308.739990</td>\n",
       "      <td>306.219717</td>\n",
       "    </tr>\n",
       "  </tbody>\n",
       "</table>\n",
       "</div>"
      ],
      "text/plain": [
       "        Actual   Predicted\n",
       "0   207.729996  211.933274\n",
       "1    28.280001   28.343446\n",
       "2    24.010000   23.967470\n",
       "3   315.230011  326.638890\n",
       "4   200.240005  197.999511\n",
       "5   210.240005  209.841431\n",
       "6    26.440001   26.570540\n",
       "7    22.790001   24.115965\n",
       "8   224.839996  218.550465\n",
       "9   353.179993  350.599448\n",
       "10  219.039993  216.709997\n",
       "11  278.480011  280.400500\n",
       "12   31.799999   31.696980\n",
       "13  102.199997  102.555421\n",
       "14   20.430000   20.400226\n",
       "15  346.049988  349.798911\n",
       "16  104.629997  103.437858\n",
       "17  260.170013  258.029938\n",
       "18   28.059999   27.728118\n",
       "19  225.000000  223.910762\n",
       "20  359.700012  363.878761\n",
       "21  327.779999  325.905607\n",
       "22  220.690002  221.709428\n",
       "23  337.950012  341.854508\n",
       "24  308.739990  306.219717"
      ]
     },
     "execution_count": 11,
     "metadata": {},
     "output_type": "execute_result"
    }
   ],
   "source": [
    "y_pred=regressor.predict(x_test)\n",
    "result=pd.DataFrame({'Actual':y_test.flatten(),'Predicted':y_pred.flatten()})\n",
    "result.head(25)"
   ]
  },
  {
   "cell_type": "code",
   "execution_count": 12,
   "metadata": {},
   "outputs": [],
   "source": [
    "import math"
   ]
  },
  {
   "cell_type": "code",
   "execution_count": 13,
   "metadata": {},
   "outputs": [],
   "source": [
    "graph=result.head(20)"
   ]
  },
  {
   "cell_type": "code",
   "execution_count": 14,
   "metadata": {},
   "outputs": [
    {
     "data": {
      "text/plain": [
       "<matplotlib.axes._subplots.AxesSubplot at 0x22eca36bcf8>"
      ]
     },
     "execution_count": 14,
     "metadata": {},
     "output_type": "execute_result"
    },
    {
     "data": {
      "image/png": "[encoded data removed]",
      "text/plain": [
       "<Figure size 432x288 with 1 Axes>"
      ]
     },
     "metadata": {},
     "output_type": "display_data"
    }
   ],
   "source": [
    "graph.plot(kind='bar')"
   ]
  },
  {
   "cell_type": "code",
   "execution_count": 16,
   "metadata": {},
   "outputs": [
    {
     "data": {
      "text/plain": [
       "(2416, 7)"
      ]
     },
     "execution_count": 16,
     "metadata": {},
     "output_type": "execute_result"
    }
   ],
   "source": [
    "df.shape"
   ]
  },
  {
   "cell_type": "code",
   "execution_count": 18,
   "metadata": {},
   "outputs": [
    {
     "data": {
      "image/png": "[encoded data removed]",
      "text/plain": [
       "<Figure size 1152x576 with 1 Axes>"
      ]
     },
     "metadata": {},
     "output_type": "display_data"
    }
   ],
   "source": [
    "plt.figure(figsize=(16,8))\n",
    "plt.title('Tesla')\n",
    "plt.xlabel('days')\n",
    "plt.ylabel('Close Price USD($)')\n",
    "plt.plot(df['Close'])\n",
    "plt.show()"
   ]
  },
  {
   "cell_type": "code",
   "execution_count": 20,
   "metadata": {},
   "outputs": [
    {
     "data": {
      "text/html": [
       "<div>\n",
       "<style scoped>\n",
       "    .dataframe tbody tr th:only-of-type {\n",
       "        vertical-align: middle;\n",
       "    }\n",
       "\n",
       "    .dataframe tbody tr th {\n",
       "        vertical-align: top;\n",
       "    }\n",
       "\n",
       "    .dataframe thead th {\n",
       "        text-align: right;\n",
       "    }\n",
       "</style>\n",
       "<table border=\"1\" class=\"dataframe\">\n",
       "  <thead>\n",
       "    <tr style=\"text-align: right;\">\n",
       "      <th></th>\n",
       "      <th>Close</th>\n",
       "    </tr>\n",
       "  </thead>\n",
       "  <tbody>\n",
       "    <tr>\n",
       "      <th>0</th>\n",
       "      <td>23.889999</td>\n",
       "    </tr>\n",
       "    <tr>\n",
       "      <th>1</th>\n",
       "      <td>23.830000</td>\n",
       "    </tr>\n",
       "    <tr>\n",
       "      <th>2</th>\n",
       "      <td>21.959999</td>\n",
       "    </tr>\n",
       "    <tr>\n",
       "      <th>3</th>\n",
       "      <td>19.200001</td>\n",
       "    </tr>\n",
       "  </tbody>\n",
       "</table>\n",
       "</div>"
      ],
      "text/plain": [
       "       Close\n",
       "0  23.889999\n",
       "1  23.830000\n",
       "2  21.959999\n",
       "3  19.200001"
      ]
     },
     "execution_count": 20,
     "metadata": {},
     "output_type": "execute_result"
    }
   ],
   "source": [
    "df=df[['Close']]\n",
    "df.head(4)"
   ]
  },
  {
   "cell_type": "code",
   "execution_count": 21,
   "metadata": {},
   "outputs": [
    {
     "data": {
      "text/html": [
       "<div>\n",
       "<style scoped>\n",
       "    .dataframe tbody tr th:only-of-type {\n",
       "        vertical-align: middle;\n",
       "    }\n",
       "\n",
       "    .dataframe tbody tr th {\n",
       "        vertical-align: top;\n",
       "    }\n",
       "\n",
       "    .dataframe thead th {\n",
       "        text-align: right;\n",
       "    }\n",
       "</style>\n",
       "<table border=\"1\" class=\"dataframe\">\n",
       "  <thead>\n",
       "    <tr style=\"text-align: right;\">\n",
       "      <th></th>\n",
       "      <th>Close</th>\n",
       "      <th>Prediction</th>\n",
       "    </tr>\n",
       "  </thead>\n",
       "  <tbody>\n",
       "    <tr>\n",
       "      <th>2412</th>\n",
       "      <td>580.989990</td>\n",
       "      <td>NaN</td>\n",
       "    </tr>\n",
       "    <tr>\n",
       "      <th>2413</th>\n",
       "      <td>640.809998</td>\n",
       "      <td>NaN</td>\n",
       "    </tr>\n",
       "    <tr>\n",
       "      <th>2414</th>\n",
       "      <td>650.570007</td>\n",
       "      <td>NaN</td>\n",
       "    </tr>\n",
       "    <tr>\n",
       "      <th>2415</th>\n",
       "      <td>780.000000</td>\n",
       "      <td>NaN</td>\n",
       "    </tr>\n",
       "  </tbody>\n",
       "</table>\n",
       "</div>"
      ],
      "text/plain": [
       "           Close  Prediction\n",
       "2412  580.989990         NaN\n",
       "2413  640.809998         NaN\n",
       "2414  650.570007         NaN\n",
       "2415  780.000000         NaN"
      ]
     },
     "execution_count": 21,
     "metadata": {},
     "output_type": "execute_result"
    }
   ],
   "source": [
    "future_days=25\n",
    "df['Prediction']=df[['Close']].shift(-future_days)\n",
    "df.tail(4)"
   ]
  },
  {
   "cell_type": "code",
   "execution_count": 23,
   "metadata": {},
   "outputs": [
    {
     "name": "stdout",
     "output_type": "stream",
     "text": [
      "[[ 23.889999]\n",
      " [ 23.83    ]\n",
      " [ 21.959999]\n",
      " ...\n",
      " [419.220001]\n",
      " [425.25    ]\n",
      " [430.940002]]\n"
     ]
    }
   ],
   "source": [
    "x=np.array(df.drop(['Prediction'],1))[:-future_days]\n",
    "print(x)"
   ]
  },
  {
   "cell_type": "code",
   "execution_count": 24,
   "metadata": {},
   "outputs": [
    {
     "name": "stdout",
     "output_type": "stream",
     "text": [
      "[ 21.26      20.450001  19.59     ... 640.809998 650.570007 780.      ]\n"
     ]
    }
   ],
   "source": [
    "y=np.array(df['Prediction'])[:-future_days]\n",
    "print(y)"
   ]
  },
  {
   "cell_type": "code",
   "execution_count": 27,
   "metadata": {},
   "outputs": [],
   "source": [
    "x_train,x_test,y_train,y_test=train_test_split(x,y,test_size=0.25)"
   ]
  },
  {
   "cell_type": "code",
   "execution_count": 28,
   "metadata": {},
   "outputs": [
    {
     "data": {
      "text/plain": [
       "array([[352.220001],\n",
       "       [354.829987],\n",
       "       [333.040009],\n",
       "       [336.339996],\n",
       "       [328.920013],\n",
       "       [331.290009],\n",
       "       [329.940002],\n",
       "       [334.869995],\n",
       "       [336.200012],\n",
       "       [333.029999],\n",
       "       [330.369995],\n",
       "       [335.890015],\n",
       "       [339.529999],\n",
       "       [348.839996],\n",
       "       [352.700012],\n",
       "       [359.679993],\n",
       "       [358.390015],\n",
       "       [381.5     ],\n",
       "       [378.98999 ],\n",
       "       [393.149994],\n",
       "       [404.040009],\n",
       "       [405.589996],\n",
       "       [419.220001],\n",
       "       [425.25    ],\n",
       "       [430.940002]])"
      ]
     },
     "execution_count": 28,
     "metadata": {},
     "output_type": "execute_result"
    }
   ],
   "source": [
    "x_future=df.drop(['Prediction'],1)[:-future_days]\n",
    "x_future=x_future.tail(future_days)\n",
    "x_future=np.array(x_future)\n",
    "x_future"
   ]
  },
  {
   "cell_type": "code",
   "execution_count": 34,
   "metadata": {},
   "outputs": [],
   "source": [
    "lr=LinearRegression().fit(x_train,y_train)"
   ]
  },
  {
   "cell_type": "code",
   "execution_count": 38,
   "metadata": {},
   "outputs": [
    {
     "name": "stdout",
     "output_type": "stream",
     "text": [
      "[357.26426251 359.86971527 338.11758388 341.4118392  334.00474383\n",
      " 336.37062343 335.02296123 339.94439142 341.27209833 338.10759127\n",
      " 335.45220738 340.96263976 344.59630154 353.89012818 357.74343979\n",
      " 364.71129739 363.42355993 386.49340562 383.98775521 398.12316496\n",
      " 408.99426529 410.54156015 424.14789144 430.16741705 435.84753619]\n"
     ]
    }
   ],
   "source": [
    "lr_prediction=lr.predict(x_future)\n",
    "print(lr_prediction)"
   ]
  },
  {
   "cell_type": "code",
   "execution_count": 41,
   "metadata": {},
   "outputs": [
    {
     "name": "stderr",
     "output_type": "stream",
     "text": [
      "C:\\Users\\Atul Sonawane\\Anaconda3\\lib\\site-packages\\ipykernel_launcher.py:3: SettingWithCopyWarning: \n",
      "A value is trying to be set on a copy of a slice from a DataFrame.\n",
      "Try using .loc[row_indexer,col_indexer] = value instead\n",
      "\n",
      "See the caveats in the documentation: http://pandas.pydata.org/pandas-docs/stable/indexing.html#indexing-view-versus-copy\n",
      "  This is separate from the ipykernel package so we can avoid doing imports until\n"
     ]
    },
    {
     "data": {
      "image/png": "[encoded data removed]",
      "text/plain": [
       "<Figure size 1152x576 with 1 Axes>"
      ]
     },
     "metadata": {},
     "output_type": "display_data"
    }
   ],
   "source": [
    "predictions=lr_prediction\n",
    "valid=df[x.shape[0]:]\n",
    "valid['Prediction']=predictions\n",
    "plt.figure(figsize=(16,8))\n",
    "plt.title('Model')\n",
    "plt.xlabel('Days')\n",
    "plt.ylabel('Close price USD($)')\n",
    "plt.plot(df['Close'])\n",
    "plt.plot(valid[['Close','Prediction']])\n",
    "plt.legend(['Orig','Val','Pred'])\n",
    "plt.show()"
   ]
  },
  {
   "cell_type": "code",
   "execution_count": null,
   "metadata": {},
   "outputs": [],
   "source": []
  }
 ],
 "metadata": {
  "kernelspec": {
   "display_name": "Python 3",
   "language": "python",
   "name": "python3"
  },
  "language_info": {
   "codemirror_mode": {
    "name": "ipython",
    "version": 3
   },
   "file_extension": ".py",
   "mimetype": "text/x-python",
   "name": "python",
   "nbconvert_exporter": "python",
   "pygments_lexer": "ipython3",
   "version": "3.6.5"
  }
 },
 "nbformat": 4,
 "nbformat_minor": 2
}
